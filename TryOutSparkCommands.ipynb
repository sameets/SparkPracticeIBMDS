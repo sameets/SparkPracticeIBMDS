{
    "nbformat_minor": 1, 
    "cells": [
        {
            "execution_count": 1, 
            "cell_type": "code", 
            "metadata": {}, 
            "outputs": [], 
            "source": "// The code was removed by DSX for sharing."
        }, 
        {
            "execution_count": 2, 
            "cell_type": "code", 
            "metadata": {}, 
            "outputs": [
                {
                    "execution_count": 2, 
                    "metadata": {}, 
                    "data": {
                        "text/plain": "Name: org.javaswift.joss.shade.exception.UnauthorizedException\nMessage: null\nStackTrace:   at sun.reflect.NativeConstructorAccessorImpl.newInstance0(Native Method)\n  at sun.reflect.NativeConstructorAccessorImpl.newInstance(NativeConstructorAccessorImpl.java:88)\n  at sun.reflect.DelegatingConstructorAccessorImpl.newInstance(DelegatingConstructorAccessorImpl.java:57)\n  at java.lang.reflect.Constructor.newInstance(Constructor.java:436)\n  at org.javaswift.joss.shade.exception.HttpStatusToExceptionMapper.getException(HttpStatusToExceptionMapper.java:48)\n  at org.javaswift.joss.shade.exception.HttpStatusExceptionUtil.getException(HttpStatusExceptionUtil.java:16)\n  at org.javaswift.joss.shade.exception.HttpStatusExceptionUtil.throwException(HttpStatusExceptionUtil.java:10)\n  at org.javaswift.joss.shade.command.impl.core.httpstatus.HttpStatusChecker.isOk(HttpStatusChecker.java:30)\n  at org.javaswift.joss.shade.command.impl.core.httpstatus.HttpStatusChecker.verifyCode(HttpStatusChecker.java:38)\n  at org.javaswift.joss.shade.command.impl.core.AbstractCommand.call(AbstractCommand.java:50)\n  at org.javaswift.joss.shade.command.impl.core.AbstractSecureCommand.call(AbstractSecureCommand.java:36)\n  at org.javaswift.joss.shade.client.core.AbstractContainer.getInfo(AbstractContainer.java:235)\n  at org.javaswift.joss.shade.client.core.AbstractObjectStoreEntity.checkForInfo(AbstractObjectStoreEntity.java:98)\n  at org.javaswift.joss.shade.client.core.AbstractObjectStoreEntity.checkForInfoDisallowErrorLog(AbstractObjectStoreEntity.java:93)\n  at org.javaswift.joss.shade.client.core.AbstractObjectStoreEntity.exists(AbstractObjectStoreEntity.java:110)\n  at com.ibm.stocator.fs.swift.SwiftAPIClient.initiate(SwiftAPIClient.java:297)\n  at com.ibm.stocator.fs.ObjectStoreVisitor.getStoreClient(ObjectStoreVisitor.java:130)\n  at com.ibm.stocator.fs.ObjectStoreFileSystem.initialize(ObjectStoreFileSystem.java:95)\n  at org.apache.hadoop.fs.FileSystem.createFileSystem(FileSystem.java:2669)\n  at org.apache.hadoop.fs.FileSystem.access$200(FileSystem.java:94)\n  at org.apache.hadoop.fs.FileSystem$Cache.getInternal(FileSystem.java:2703)\n  at org.apache.hadoop.fs.FileSystem$Cache.get(FileSystem.java:2685)\n  at org.apache.hadoop.fs.FileSystem.get(FileSystem.java:373)\n  at org.apache.hadoop.fs.Path.getFileSystem(Path.java:295)\n  at org.apache.spark.sql.execution.datasources.DataSource$$anonfun$14.apply(DataSource.scala:372)\n  at org.apache.spark.sql.execution.datasources.DataSource$$anonfun$14.apply(DataSource.scala:370)\n  at scala.collection.TraversableLike$$anonfun$flatMap$1.apply(TraversableLike.scala:241)\n  at scala.collection.TraversableLike$$anonfun$flatMap$1.apply(TraversableLike.scala:241)\n  at scala.collection.immutable.List.foreach(List.scala:381)\n  at scala.collection.TraversableLike$class.flatMap(TraversableLike.scala:241)\n  at scala.collection.immutable.List.flatMap(List.scala:344)\n  at org.apache.spark.sql.execution.datasources.DataSource.resolveRelation(DataSource.scala:370)\n  at org.apache.spark.sql.DataFrameReader.load(DataFrameReader.scala:152)\n  at org.apache.spark.sql.DataFrameReader.load(DataFrameReader.scala:135)"
                    }, 
                    "output_type": "execute_result"
                }
            ], 
            "source": "// The code was removed by DSX for sharing."
        }, 
        {
            "execution_count": 3, 
            "cell_type": "code", 
            "metadata": {}, 
            "outputs": [
                {
                    "output_type": "stream", 
                    "name": "stdout", 
                    "text": "+------+\n|   _c0|\n+------+\n|6.1101|\n|5.5277|\n|8.5186|\n|7.0032|\n|5.8598|\n+------+\nonly showing top 5 rows\n\n"
                }
            ], 
            "source": "dfData1.select(\"_c0\").show(5)"
        }, 
        {
            "execution_count": 7, 
            "cell_type": "code", 
            "metadata": {}, 
            "outputs": [
                {
                    "output_type": "stream", 
                    "name": "stdout", 
                    "text": "+------+\n|   _c0|\n+------+\n|6.1101|\n|8.5186|\n|7.0032|\n|8.3829|\n|7.4764|\n+------+\nonly showing top 5 rows\n\n"
                }
            ], 
            "source": "dfData1.filter($\"_c0\" > 6).select($\"_c0\").show(5)"
        }, 
        {
            "execution_count": 8, 
            "cell_type": "code", 
            "metadata": {}, 
            "outputs": [
                {
                    "output_type": "stream", 
                    "name": "stdout", 
                    "text": "root\n |-- _c0: double (nullable = true)\n |-- _c1: double (nullable = true)\n\n"
                }
            ], 
            "source": "dfData1.printSchema"
        }, 
        {
            "execution_count": 11, 
            "cell_type": "code", 
            "metadata": {}, 
            "outputs": [], 
            "source": "//rename header, different dataframe\nval df2 = dfData1.select($\"_c0\".alias(\"population\"))"
        }, 
        {
            "execution_count": 12, 
            "cell_type": "code", 
            "metadata": {}, 
            "outputs": [
                {
                    "output_type": "stream", 
                    "name": "stdout", 
                    "text": "root\n |-- population: double (nullable = true)\n\n"
                }
            ], 
            "source": "df2.printSchema"
        }, 
        {
            "execution_count": null, 
            "cell_type": "code", 
            "metadata": {}, 
            "outputs": [], 
            "source": ""
        }
    ], 
    "metadata": {
        "kernelspec": {
            "display_name": "Scala 2.11 with Spark 2.1", 
            "name": "scala-spark21", 
            "language": "scala"
        }, 
        "language_info": {
            "mimetype": "text/x-scala", 
            "version": "2.11.8", 
            "name": "scala", 
            "pygments_lexer": "scala", 
            "file_extension": ".scala", 
            "codemirror_mode": "text/x-scala"
        }
    }, 
    "nbformat": 4
}